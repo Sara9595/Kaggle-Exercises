{
 "cells": [
  {
   "cell_type": "markdown",
   "id": "1b7b3577",
   "metadata": {
    "papermill": {
     "duration": 0.004289,
     "end_time": "2024-12-11T13:56:31.424982",
     "exception": false,
     "start_time": "2024-12-11T13:56:31.420693",
     "status": "completed"
    },
    "tags": []
   },
   "source": [
    "**This notebook is an exercise in the [Introduction to Machine Learning](https://www.kaggle.com/learn/intro-to-machine-learning) course.  You can reference the tutorial at [this link](https://www.kaggle.com/dansbecker/model-validation).**\n",
    "\n",
    "---\n"
   ]
  },
  {
   "cell_type": "markdown",
   "id": "ea3d8897",
   "metadata": {
    "papermill": {
     "duration": 0.003459,
     "end_time": "2024-12-11T13:56:31.432401",
     "exception": false,
     "start_time": "2024-12-11T13:56:31.428942",
     "status": "completed"
    },
    "tags": []
   },
   "source": [
    "## Recap\n",
    "You've built a model. In this exercise you will test how good your model is.\n",
    "\n",
    "Run the cell below to set up your coding environment where the previous exercise left off."
   ]
  },
  {
   "cell_type": "code",
   "execution_count": 1,
   "id": "bd011d22",
   "metadata": {
    "execution": {
     "iopub.execute_input": "2024-12-11T13:56:31.442061Z",
     "iopub.status.busy": "2024-12-11T13:56:31.441087Z",
     "iopub.status.idle": "2024-12-11T13:56:34.271611Z",
     "shell.execute_reply": "2024-12-11T13:56:34.270290Z"
    },
    "papermill": {
     "duration": 2.837906,
     "end_time": "2024-12-11T13:56:34.274023",
     "exception": false,
     "start_time": "2024-12-11T13:56:31.436117",
     "status": "completed"
    },
    "tags": []
   },
   "outputs": [
    {
     "name": "stdout",
     "output_type": "stream",
     "text": [
      "First in-sample predictions: [208500. 181500. 223500. 140000. 250000.]\n",
      "Actual target values for those homes: [208500, 181500, 223500, 140000, 250000]\n",
      "Setup Complete\n"
     ]
    }
   ],
   "source": [
    "# Code you have previously used to load data\n",
    "import pandas as pd\n",
    "from sklearn.tree import DecisionTreeRegressor\n",
    "\n",
    "# Path of the file to read\n",
    "iowa_file_path = '../input/home-data-for-ml-course/train.csv'\n",
    "\n",
    "home_data = pd.read_csv(iowa_file_path)\n",
    "y = home_data.SalePrice\n",
    "feature_columns = ['LotArea', 'YearBuilt', '1stFlrSF', '2ndFlrSF', 'FullBath', 'BedroomAbvGr', 'TotRmsAbvGrd']\n",
    "X = home_data[feature_columns]\n",
    "\n",
    "# Specify Model\n",
    "iowa_model = DecisionTreeRegressor()\n",
    "# Fit Model\n",
    "iowa_model.fit(X, y)\n",
    "\n",
    "print(\"First in-sample predictions:\", iowa_model.predict(X.head()))\n",
    "print(\"Actual target values for those homes:\", y.head().tolist())\n",
    "\n",
    "# Set up code checking\n",
    "from learntools.core import binder\n",
    "binder.bind(globals())\n",
    "from learntools.machine_learning.ex4 import *\n",
    "print(\"Setup Complete\")"
   ]
  },
  {
   "cell_type": "markdown",
   "id": "a22ba854",
   "metadata": {
    "papermill": {
     "duration": 0.003634,
     "end_time": "2024-12-11T13:56:34.281745",
     "exception": false,
     "start_time": "2024-12-11T13:56:34.278111",
     "status": "completed"
    },
    "tags": []
   },
   "source": [
    "# Exercises\n",
    "\n",
    "## Step 1: Split Your Data\n",
    "Use the `train_test_split` function to split up your data.\n",
    "\n",
    "Give it the argument `random_state=1` so the `check` functions know what to expect when verifying your code.\n",
    "\n",
    "Recall, your features are loaded in the DataFrame **X** and your target is loaded in **y**.\n"
   ]
  },
  {
   "cell_type": "code",
   "execution_count": 2,
   "id": "e1b4da7e",
   "metadata": {
    "execution": {
     "iopub.execute_input": "2024-12-11T13:56:34.291288Z",
     "iopub.status.busy": "2024-12-11T13:56:34.290749Z",
     "iopub.status.idle": "2024-12-11T13:56:34.310882Z",
     "shell.execute_reply": "2024-12-11T13:56:34.309691Z"
    },
    "papermill": {
     "duration": 0.027377,
     "end_time": "2024-12-11T13:56:34.312922",
     "exception": false,
     "start_time": "2024-12-11T13:56:34.285545",
     "status": "completed"
    },
    "tags": []
   },
   "outputs": [
    {
     "data": {
      "application/javascript": [
       "parent.postMessage({\"jupyterEvent\": \"custom.exercise_interaction\", \"data\": {\"outcomeType\": 1, \"valueTowardsCompletion\": 0.25, \"interactionType\": 1, \"questionType\": 2, \"questionId\": \"1_SplitData\", \"learnToolsVersion\": \"0.3.4\", \"failureMessage\": \"\", \"exceptionClass\": \"\", \"trace\": \"\"}}, \"*\")"
      ],
      "text/plain": [
       "<IPython.core.display.Javascript object>"
      ]
     },
     "metadata": {},
     "output_type": "display_data"
    },
    {
     "data": {
      "text/markdown": [
       "<span style=\"color:#33cc33\">Correct</span>"
      ],
      "text/plain": [
       "Correct"
      ]
     },
     "metadata": {},
     "output_type": "display_data"
    }
   ],
   "source": [
    "# Import the train_test_split function and uncomment\n",
    "from sklearn.model_selection import train_test_split\n",
    "\n",
    "# fill in and uncomment\n",
    "train_X, val_X, train_y, val_y = train_test_split(X , y , random_state=1)\n",
    "\n",
    "# Check your answer\n",
    "step_1.check()"
   ]
  },
  {
   "cell_type": "code",
   "execution_count": 3,
   "id": "8595480a",
   "metadata": {
    "execution": {
     "iopub.execute_input": "2024-12-11T13:56:34.325119Z",
     "iopub.status.busy": "2024-12-11T13:56:34.324106Z",
     "iopub.status.idle": "2024-12-11T13:56:34.329313Z",
     "shell.execute_reply": "2024-12-11T13:56:34.328176Z"
    },
    "papermill": {
     "duration": 0.014811,
     "end_time": "2024-12-11T13:56:34.331853",
     "exception": false,
     "start_time": "2024-12-11T13:56:34.317042",
     "status": "completed"
    },
    "tags": []
   },
   "outputs": [],
   "source": [
    "# The lines below will show you a hint or the solution.\n",
    "# step_1.hint() \n",
    "# step_1.solution()\n"
   ]
  },
  {
   "cell_type": "markdown",
   "id": "33296655",
   "metadata": {
    "papermill": {
     "duration": 0.006693,
     "end_time": "2024-12-11T13:56:34.345660",
     "exception": false,
     "start_time": "2024-12-11T13:56:34.338967",
     "status": "completed"
    },
    "tags": []
   },
   "source": [
    "## Step 2: Specify and Fit the Model\n",
    "\n",
    "Create a `DecisionTreeRegressor` model and fit it to the relevant data.\n",
    "Set `random_state` to 1 again when creating the model."
   ]
  },
  {
   "cell_type": "code",
   "execution_count": 4,
   "id": "ff42c14b",
   "metadata": {
    "execution": {
     "iopub.execute_input": "2024-12-11T13:56:34.356883Z",
     "iopub.status.busy": "2024-12-11T13:56:34.356382Z",
     "iopub.status.idle": "2024-12-11T13:56:34.386728Z",
     "shell.execute_reply": "2024-12-11T13:56:34.385619Z"
    },
    "papermill": {
     "duration": 0.03797,
     "end_time": "2024-12-11T13:56:34.388997",
     "exception": false,
     "start_time": "2024-12-11T13:56:34.351027",
     "status": "completed"
    },
    "tags": []
   },
   "outputs": [
    {
     "name": "stdout",
     "output_type": "stream",
     "text": [
      "[186500. 184000. 130000.  92000. 164500. 220000. 335000. 144152. 215000.\n",
      " 262000.]\n",
      "[186500. 184000. 130000.  92000. 164500. 220000. 335000. 144152. 215000.\n",
      " 262000.]\n"
     ]
    },
    {
     "data": {
      "application/javascript": [
       "parent.postMessage({\"jupyterEvent\": \"custom.exercise_interaction\", \"data\": {\"outcomeType\": 1, \"valueTowardsCompletion\": 0.25, \"interactionType\": 1, \"questionType\": 2, \"questionId\": \"2_FitModelWithTrain\", \"learnToolsVersion\": \"0.3.4\", \"failureMessage\": \"\", \"exceptionClass\": \"\", \"trace\": \"\"}}, \"*\")"
      ],
      "text/plain": [
       "<IPython.core.display.Javascript object>"
      ]
     },
     "metadata": {},
     "output_type": "display_data"
    },
    {
     "data": {
      "text/markdown": [
       "<span style=\"color:#33cc33\">Correct</span>"
      ],
      "text/plain": [
       "Correct"
      ]
     },
     "metadata": {},
     "output_type": "display_data"
    }
   ],
   "source": [
    "# You imported DecisionTreeRegressor in your last exercise\n",
    "# and that code has been copied to the setup code above. So, no need to\n",
    "# import it again\n",
    "\n",
    "# Specify the model\n",
    "iowa_model = DecisionTreeRegressor(random_state =1)\n",
    "\n",
    "# Fit iowa_model with the training data.\n",
    "iowa_model.fit(train_X , train_y)\n",
    "\n",
    "# Check your answer\n",
    "step_2.check()"
   ]
  },
  {
   "cell_type": "code",
   "execution_count": 5,
   "id": "cdc08dcc",
   "metadata": {
    "execution": {
     "iopub.execute_input": "2024-12-11T13:56:34.399566Z",
     "iopub.status.busy": "2024-12-11T13:56:34.399073Z",
     "iopub.status.idle": "2024-12-11T13:56:34.403800Z",
     "shell.execute_reply": "2024-12-11T13:56:34.402781Z"
    },
    "papermill": {
     "duration": 0.012369,
     "end_time": "2024-12-11T13:56:34.405928",
     "exception": false,
     "start_time": "2024-12-11T13:56:34.393559",
     "status": "completed"
    },
    "tags": []
   },
   "outputs": [],
   "source": [
    "# step_2.hint()\n",
    "#step_2.solution()"
   ]
  },
  {
   "cell_type": "markdown",
   "id": "30dff44d",
   "metadata": {
    "papermill": {
     "duration": 0.003904,
     "end_time": "2024-12-11T13:56:34.414194",
     "exception": false,
     "start_time": "2024-12-11T13:56:34.410290",
     "status": "completed"
    },
    "tags": []
   },
   "source": [
    "## Step 3: Make Predictions with Validation data\n"
   ]
  },
  {
   "cell_type": "code",
   "execution_count": 6,
   "id": "944a517d",
   "metadata": {
    "execution": {
     "iopub.execute_input": "2024-12-11T13:56:34.424571Z",
     "iopub.status.busy": "2024-12-11T13:56:34.423701Z",
     "iopub.status.idle": "2024-12-11T13:56:34.437305Z",
     "shell.execute_reply": "2024-12-11T13:56:34.436256Z"
    },
    "papermill": {
     "duration": 0.021099,
     "end_time": "2024-12-11T13:56:34.439354",
     "exception": false,
     "start_time": "2024-12-11T13:56:34.418255",
     "status": "completed"
    },
    "tags": []
   },
   "outputs": [
    {
     "data": {
      "application/javascript": [
       "parent.postMessage({\"jupyterEvent\": \"custom.exercise_interaction\", \"data\": {\"outcomeType\": 1, \"valueTowardsCompletion\": 0.25, \"interactionType\": 1, \"questionType\": 2, \"questionId\": \"3_ValPreds\", \"learnToolsVersion\": \"0.3.4\", \"failureMessage\": \"\", \"exceptionClass\": \"\", \"trace\": \"\"}}, \"*\")"
      ],
      "text/plain": [
       "<IPython.core.display.Javascript object>"
      ]
     },
     "metadata": {},
     "output_type": "display_data"
    },
    {
     "data": {
      "text/markdown": [
       "<span style=\"color:#33cc33\">Correct</span>"
      ],
      "text/plain": [
       "Correct"
      ]
     },
     "metadata": {},
     "output_type": "display_data"
    }
   ],
   "source": [
    "# Predict with all validation observations\n",
    "val_predictions = iowa_model.predict(val_X)\n",
    "\n",
    "# Check your answer\n",
    "step_3.check()"
   ]
  },
  {
   "cell_type": "code",
   "execution_count": 7,
   "id": "070060f7",
   "metadata": {
    "execution": {
     "iopub.execute_input": "2024-12-11T13:56:34.450194Z",
     "iopub.status.busy": "2024-12-11T13:56:34.449710Z",
     "iopub.status.idle": "2024-12-11T13:56:34.454610Z",
     "shell.execute_reply": "2024-12-11T13:56:34.453504Z"
    },
    "papermill": {
     "duration": 0.013073,
     "end_time": "2024-12-11T13:56:34.456966",
     "exception": false,
     "start_time": "2024-12-11T13:56:34.443893",
     "status": "completed"
    },
    "tags": []
   },
   "outputs": [],
   "source": [
    "# step_3.hint()\n",
    "# step_3.solution()"
   ]
  },
  {
   "cell_type": "markdown",
   "id": "799eff0d",
   "metadata": {
    "papermill": {
     "duration": 0.004209,
     "end_time": "2024-12-11T13:56:34.465758",
     "exception": false,
     "start_time": "2024-12-11T13:56:34.461549",
     "status": "completed"
    },
    "tags": []
   },
   "source": [
    "Inspect your predictions and actual values from validation data."
   ]
  },
  {
   "cell_type": "code",
   "execution_count": 8,
   "id": "70f358f8",
   "metadata": {
    "execution": {
     "iopub.execute_input": "2024-12-11T13:56:34.477235Z",
     "iopub.status.busy": "2024-12-11T13:56:34.476452Z",
     "iopub.status.idle": "2024-12-11T13:56:34.485913Z",
     "shell.execute_reply": "2024-12-11T13:56:34.484828Z"
    },
    "papermill": {
     "duration": 0.018498,
     "end_time": "2024-12-11T13:56:34.488861",
     "exception": false,
     "start_time": "2024-12-11T13:56:34.470363",
     "status": "completed"
    },
    "tags": []
   },
   "outputs": [
    {
     "name": "stdout",
     "output_type": "stream",
     "text": [
      "few validation predictions [186500. 184000. 130000.  92000. 164500.]\n",
      "few actual prices [307000. 223500. 145000. 155000. 140000.]\n"
     ]
    }
   ],
   "source": [
    "# print the top few validation predictions\n",
    "print(\"few validation predictions\" , iowa_model.predict(val_X.head()))\n",
    "# print the top few actual prices from validation data\n",
    "print(\"few actual prices\" , iowa_model.predict(train_X.head()))"
   ]
  },
  {
   "cell_type": "markdown",
   "id": "c9b2119f",
   "metadata": {
    "papermill": {
     "duration": 0.006952,
     "end_time": "2024-12-11T13:56:34.503907",
     "exception": false,
     "start_time": "2024-12-11T13:56:34.496955",
     "status": "completed"
    },
    "tags": []
   },
   "source": [
    "What do you notice that is different from what you saw with in-sample predictions (which are printed after the top code cell in this page).\n",
    "\n",
    "Do you remember why validation predictions differ from in-sample (or training) predictions? This is an important idea from the last lesson.\n",
    "\n",
    "## Step 4: Calculate the Mean Absolute Error in Validation Data\n"
   ]
  },
  {
   "cell_type": "code",
   "execution_count": 9,
   "id": "b5d81397",
   "metadata": {
    "execution": {
     "iopub.execute_input": "2024-12-11T13:56:34.515319Z",
     "iopub.status.busy": "2024-12-11T13:56:34.514788Z",
     "iopub.status.idle": "2024-12-11T13:56:34.527149Z",
     "shell.execute_reply": "2024-12-11T13:56:34.525982Z"
    },
    "papermill": {
     "duration": 0.02056,
     "end_time": "2024-12-11T13:56:34.529341",
     "exception": false,
     "start_time": "2024-12-11T13:56:34.508781",
     "status": "completed"
    },
    "tags": []
   },
   "outputs": [
    {
     "name": "stdout",
     "output_type": "stream",
     "text": [
      "29652.931506849316\n"
     ]
    },
    {
     "data": {
      "application/javascript": [
       "parent.postMessage({\"jupyterEvent\": \"custom.exercise_interaction\", \"data\": {\"outcomeType\": 1, \"valueTowardsCompletion\": 0.25, \"interactionType\": 1, \"questionType\": 1, \"questionId\": \"4_MAE\", \"learnToolsVersion\": \"0.3.4\", \"failureMessage\": \"\", \"exceptionClass\": \"\", \"trace\": \"\"}}, \"*\")"
      ],
      "text/plain": [
       "<IPython.core.display.Javascript object>"
      ]
     },
     "metadata": {},
     "output_type": "display_data"
    },
    {
     "data": {
      "text/markdown": [
       "<span style=\"color:#33cc33\">Correct</span>"
      ],
      "text/plain": [
       "Correct"
      ]
     },
     "metadata": {},
     "output_type": "display_data"
    }
   ],
   "source": [
    "from sklearn.metrics import mean_absolute_error\n",
    "val_mae = mean_absolute_error(val_y ,val_predictions )\n",
    "\n",
    "# uncomment following line to see the validation_mae\n",
    "print(val_mae)\n",
    "\n",
    "# Check your answer\n",
    "step_4.check()"
   ]
  },
  {
   "cell_type": "code",
   "execution_count": 10,
   "id": "6dcca90c",
   "metadata": {
    "execution": {
     "iopub.execute_input": "2024-12-11T13:56:34.541542Z",
     "iopub.status.busy": "2024-12-11T13:56:34.540575Z",
     "iopub.status.idle": "2024-12-11T13:56:34.545324Z",
     "shell.execute_reply": "2024-12-11T13:56:34.544334Z"
    },
    "papermill": {
     "duration": 0.013203,
     "end_time": "2024-12-11T13:56:34.547564",
     "exception": false,
     "start_time": "2024-12-11T13:56:34.534361",
     "status": "completed"
    },
    "tags": []
   },
   "outputs": [],
   "source": [
    "# step_4.hint()\n",
    "# step_4.solution()"
   ]
  },
  {
   "cell_type": "markdown",
   "id": "ee440eff",
   "metadata": {
    "papermill": {
     "duration": 0.004529,
     "end_time": "2024-12-11T13:56:34.557063",
     "exception": false,
     "start_time": "2024-12-11T13:56:34.552534",
     "status": "completed"
    },
    "tags": []
   },
   "source": [
    "Is that MAE good?  There isn't a general rule for what values are good that applies across applications. But you'll see how to use (and improve) this number in the next step.\n",
    "\n",
    "# Keep Going\n",
    "\n",
    "You are ready for **[Underfitting and Overfitting](https://www.kaggle.com/dansbecker/underfitting-and-overfitting).**\n"
   ]
  },
  {
   "cell_type": "markdown",
   "id": "889e92fb",
   "metadata": {
    "papermill": {
     "duration": 0.004803,
     "end_time": "2024-12-11T13:56:34.566705",
     "exception": false,
     "start_time": "2024-12-11T13:56:34.561902",
     "status": "completed"
    },
    "tags": []
   },
   "source": [
    "---\n",
    "\n",
    "\n",
    "\n",
    "\n",
    "*Have questions or comments? Visit the [course discussion forum](https://www.kaggle.com/learn/intro-to-machine-learning/discussion) to chat with other learners.*"
   ]
  }
 ],
 "metadata": {
  "kaggle": {
   "accelerator": "none",
   "dataSources": [
    {
     "databundleVersionId": 111096,
     "sourceId": 10211,
     "sourceType": "competition"
    },
    {
     "datasetId": 11167,
     "sourceId": 15520,
     "sourceType": "datasetVersion"
    },
    {
     "datasetId": 2709,
     "sourceId": 38454,
     "sourceType": "datasetVersion"
    }
   ],
   "isGpuEnabled": false,
   "isInternetEnabled": false,
   "language": "python",
   "sourceType": "notebook"
  },
  "kernelspec": {
   "display_name": "Python 3",
   "language": "python",
   "name": "python3"
  },
  "language_info": {
   "codemirror_mode": {
    "name": "ipython",
    "version": 3
   },
   "file_extension": ".py",
   "mimetype": "text/x-python",
   "name": "python",
   "nbconvert_exporter": "python",
   "pygments_lexer": "ipython3",
   "version": "3.10.14"
  },
  "papermill": {
   "default_parameters": {},
   "duration": 6.475753,
   "end_time": "2024-12-11T13:56:35.193068",
   "environment_variables": {},
   "exception": null,
   "input_path": "__notebook__.ipynb",
   "output_path": "__notebook__.ipynb",
   "parameters": {},
   "start_time": "2024-12-11T13:56:28.717315",
   "version": "2.6.0"
  }
 },
 "nbformat": 4,
 "nbformat_minor": 5
}
